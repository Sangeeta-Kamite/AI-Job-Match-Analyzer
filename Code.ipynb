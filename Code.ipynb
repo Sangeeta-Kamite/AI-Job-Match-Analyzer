{
  "cells": [
    {
      "cell_type": "code",
      "execution_count": null,
      "id": "f4484fcf-8b39-4c3f-9674-37970ed71988",
      "metadata": {
        "id": "f4484fcf-8b39-4c3f-9674-37970ed71988"
      },
      "outputs": [],
      "source": [
        "import os\n",
        "from dotenv import load_dotenv\n",
        "from scraper import fetch_website_contents\n",
        "from IPython.display import Markdown, display\n",
        "from openai import OpenAI"
      ]
    },
    {
      "cell_type": "code",
      "execution_count": null,
      "id": "c7728a22",
      "metadata": {
        "id": "c7728a22",
        "outputId": "c03f7cc4-d19d-4826-a49e-7a4c14b812b4"
      },
      "outputs": [
        {
          "name": "stdout",
          "output_type": "stream",
          "text": [
            "✅ API key loaded successfully!\n"
          ]
        }
      ],
      "source": [
        "load_dotenv(override=True)\n",
        "api_key = os.getenv(\"OPENAI_API_KEY\")\n",
        "\n",
        "if not api_key:\n",
        "    print(\"❌ No API key found. Please add it to your .env file in project root.\")\n",
        "elif not api_key.startswith(\"sk-proj-\"):\n",
        "    print(\"⚠️ API key found, but it doesn't start with 'sk-proj-'; please verify.\")\n",
        "else:\n",
        "    print(\"✅ API key loaded successfully!\")\n",
        "\n",
        "# Connect to OpenAI\n",
        "openai = OpenAI()"
      ]
    },
    {
      "cell_type": "code",
      "execution_count": null,
      "id": "68d51f8e",
      "metadata": {
        "id": "68d51f8e"
      },
      "outputs": [],
      "source": [
        "def read_resume():\n",
        "    \"\"\"Read the resume text file from a fixed absolute path.\"\"\"\n",
        "    path = r\"C:\\Users\\sangeeta\\projects\\llm_engineering\\week1\\solutions\\resume.txt\"\n",
        "    try:\n",
        "        with open(path, \"r\", encoding=\"utf-8\") as f:\n",
        "            return f.read()\n",
        "    except FileNotFoundError:\n",
        "        print(f\"❌ Resume file not found at path: {path}\")\n",
        "        return \"\""
      ]
    },
    {
      "cell_type": "code",
      "execution_count": null,
      "id": "b0385819",
      "metadata": {
        "id": "b0385819"
      },
      "outputs": [],
      "source": [
        "system_prompt = \"\"\"\n",
        "You are an AI HR assistant.\n",
        "\n",
        "Compare the following:\n",
        "1. A job description from a website\n",
        "2. The candidate's résumé text\n",
        "\n",
        "Your tasks:\n",
        "- Extract the following details from the job posting (if available):\n",
        "  • 📍 Job location\n",
        "  • 💼 Job type (Full-time / Contract / Internship / Remote / Hybrid)\n",
        "  • 💰 Salary range or compensation details\n",
        "- Summarize each source briefly in a professional tone.\n",
        "- Estimate a match score (0–100%) based on skill alignment and relevance.\n",
        "- List required and optional skills from job description\n",
        "- List the top 3 strengths.\n",
        "- Highlight missing or weak skills in red using <span style=\"color:red\"> tags.\n",
        "- Do not mention or infer the number of years of experience (e.g., avoid \"3+ years\", \"five years\").\n",
        "- Focus only on the candidate’s skills, tools, domains, and achievements — not duration or tenure.\n",
        "\n",
        "Respond in Markdown (no code blocks).\n",
        "\"\"\""
      ]
    },
    {
      "cell_type": "code",
      "execution_count": null,
      "id": "418a37c5",
      "metadata": {
        "id": "418a37c5"
      },
      "outputs": [],
      "source": [
        "def messages_for(job_text, resume_text):\n",
        "    user_prompt = f\"\"\"\n",
        "Job Description:\n",
        "{job_text}\n",
        "\n",
        "Candidate Resume:\n",
        "{resume_text}\n",
        "\"\"\"\n",
        "    return [\n",
        "        {\"role\": \"system\", \"content\": system_prompt},\n",
        "        {\"role\": \"user\", \"content\": user_prompt}\n",
        "    ]\n"
      ]
    },
    {
      "cell_type": "code",
      "execution_count": null,
      "id": "aab6b04c",
      "metadata": {
        "id": "aab6b04c"
      },
      "outputs": [],
      "source": [
        "def match_job_resume(job_url):\n",
        "    \"\"\"Fetch job + resume and send to OpenAI.\"\"\"\n",
        "    print(\"📡 Fetching job description...\")\n",
        "    job_text = fetch_website_contents(job_url)\n",
        "\n",
        "    print(\"📄 Reading resume file...\")\n",
        "    resume_text = read_resume()\n",
        "\n",
        "    if not resume_text.strip():\n",
        "        print(\"⚠️ Resume file is empty or not found. Please check the path.\")\n",
        "        return\n",
        "\n",
        "    print(\"🤖 Sending data to OpenAI model... please wait.\")\n",
        "    response = openai.chat.completions.create(\n",
        "        model=\"gpt-4.1-mini\",\n",
        "        messages=messages_for(job_text, resume_text)\n",
        "    )\n",
        "\n",
        "    return response.choices[0].message.content"
      ]
    },
    {
      "cell_type": "code",
      "execution_count": null,
      "id": "6ed42d03",
      "metadata": {
        "id": "6ed42d03"
      },
      "outputs": [],
      "source": [
        "def display_match(job_url):\n",
        "    \"\"\"Display the final result in Markdown.\"\"\"\n",
        "    result = match_job_resume(job_url)\n",
        "    if result:\n",
        "        display(Markdown(result))"
      ]
    },
    {
      "cell_type": "code",
      "execution_count": null,
      "id": "3284952f",
      "metadata": {
        "id": "3284952f",
        "outputId": "90d66079-3e1f-4cbf-8182-f6d5f828de3e"
      },
      "outputs": [
        {
          "name": "stdout",
          "output_type": "stream",
          "text": [
            "📡 Fetching job description...\n",
            "📄 Reading resume file...\n",
            "🤖 Sending data to OpenAI model... please wait.\n"
          ]
        },
        {
          "data": {
            "text/markdown": [
              "### Job Description Summary\n",
              "The job posting is for various Analyst roles in the United States, with prominent locations such as New York, Houston, Austin, Miami, and Denver. Available job types include full-time, part-time, contract, temporary, and internship positions. Remote, hybrid, and on-site options are offered. Salary ranges start from $40,000 and go beyond $120,000 depending on the role and location. Companies hiring include Nomura, Toyota North America, and others, with roles typically in sectors like global markets, investment banking, acquisitions, or business insights.\n",
              "\n",
              "- 📍 Job location: Multiple locations including New York, NY; Houston, TX; Austin, TX; Miami, FL; Denver, CO; Plano, TX  \n",
              "- 💼 Job type: Full-time (majority), Part-time, Contract, Temporary, Internship; also Remote and Hybrid options  \n",
              "- 💰 Salary: Starting from $40,000+ up to $120,000+ depending on role/location  \n",
              "\n",
              "---\n",
              "\n",
              "### Candidate Résumé Summary\n",
              "Sangeeta Ramdas Kamite is a proficient Data Analyst based in Texas with expertise in data analysis, statistical modeling, machine learning, and cloud platforms. She has advanced skills in Python, SQL, data visualization (Tableau, Power BI), big data technologies (Hadoop, Spark, Kafka), and cloud computing (AWS, Azure, Google Cloud). Her experience spans building ETL pipelines, predictive modeling, anomaly detection, interactive dashboards, and compliance management in finance, education, and healthcare sectors. She demonstrates strong analytical thinking, stakeholder management, and technical delivery with proven results in improving decision-making efficiency and data quality.\n",
              "\n",
              "---\n",
              "\n",
              "### Required Skills from Job Description (Inferred for Analyst Roles)\n",
              "- Data Analysis  \n",
              "- Statistical Modeling  \n",
              "- SQL and database management  \n",
              "- Reporting and data visualization  \n",
              "- Business insights and strategy  \n",
              "- Communication and stakeholder collaboration  \n",
              "- Use of cloud platforms and big data tools (optional depending on role)  \n",
              "\n",
              "### Optional Skills from Job Description  \n",
              "- Machine learning techniques  \n",
              "- Financial or market data experience  \n",
              "- Advanced analytics and predictive modeling  \n",
              "- Agile or SDLC methodologies  \n",
              "\n",
              "---\n",
              "\n",
              "### Top 3 Candidate Strengths\n",
              "1. **Advanced Data Analysis & Statistical Modeling:** Uses Python, R, SQL for predictive analytics, clustering, regression, and time series forecasting (Prophet, ARIMA).  \n",
              "2. **Data Engineering & Big Data Technologies:** Skilled in building scalable ETL pipelines, leveraging Apache Airflow, Spark, Kafka, Hadoop, and cloud infrastructures (AWS, Azure, GCP).  \n",
              "3. **Data Visualization & Reporting:** Expertise in Tableau, Power BI, Excel dashboards, and reporting tools like SSRS for actionable insights and stakeholder presentations.  \n",
              "\n",
              "---\n",
              "\n",
              "### Skill Match and Gap Analysis\n",
              "\n",
              "| Skill / Area                         | Candidate Matches?                       | Notes                                                                                      |\n",
              "|------------------------------------|----------------------------------------|--------------------------------------------------------------------------------------------|\n",
              "| Data Analysis & Statistical Skills | ✅ Strong                              | Comprehensive experience including supervised learning, regression, clustering, A/B testing |\n",
              "| SQL and Database Management        | ✅ Strong                              | Extensive use of SQL variants, Oracle, MySQL, PostgreSQL, MongoDB                         |\n",
              "| Data Visualization                 | ✅ Strong                              | Tableau, Power BI, Advanced Excel, Plotly, Seaborn                                        |\n",
              "| Cloud Platforms                   | ✅ Strong                              | AWS, Azure, Google Cloud experience with data storage and processing                      |\n",
              "| Big Data Technologies             | ✅ Strong                              | Hadoop, Spark, Kafka, Hive, HBase, MapReduce, Snowflake                                  |\n",
              "| Machine Learning                  | ✅ Strong                              | Supervised ML models, anomaly detection, AI/LLM familiarity                              |\n",
              "| Business Insights / Strategy       | ✅ Moderate - Indirect                 | Worked on funnel analysis, marketing, mortgage risk insights, but no explicit business strategy roles mentioned |\n",
              "| Agile / SDLC                      | ✅ Moderate                          | Familiar with Agile and Waterfall methodologies                                           |\n",
              "| Financial Markets / Investment Banking | <span style=\"color:red\">No direct mention</span>                  | No explicit experience in investment banking or global markets noted                      |\n",
              "| Communication / Stakeholder Management | ✅ Strong                           | Presentation skills and stakeholder engagement demonstrated                               |\n",
              "\n",
              "---\n",
              "\n",
              "### Candidate Missing or Weak Skills\n",
              "- <span style=\"color:red\">Direct financial markets or investment banking experience</span>  \n",
              "- <span style=\"color:red\">Explicit business strategy formulation role</span>  \n",
              "\n",
              "---\n",
              "\n",
              "### Match Score Estimate: **85%**\n",
              "\n",
              "The candidate is highly qualified on core data analytics, big data, cloud computing, machine learning, and data visualization skills relevant for most analyst positions. The main gap lies in direct financial market or investment banking experience and explicit business strategy exposure, which may limit fit for highly specialized finance-focused analyst roles but not general analyst roles.\n",
              "\n",
              "---\n",
              "\n",
              "**Summary:**  \n",
              "Sangeeta brings strong technical expertise in advanced analytics, machine learning, cloud-based data engineering, and visualization with proven results across multiple industries. Although lacking direct finance or market-specific experience, her comprehensive skills and accomplishments indicate a strong match for analyst roles focusing on data insights, reporting, and scalable data solutions in diverse domains."
            ],
            "text/plain": [
              "<IPython.core.display.Markdown object>"
            ]
          },
          "metadata": {},
          "output_type": "display_data"
        }
      ],
      "source": [
        "display_match(\"https://www.linkedin.com/jobs/view/4316368656\")"
      ]
    }
  ],
  "metadata": {
    "kernelspec": {
      "display_name": ".venv",
      "language": "python",
      "name": "python3"
    },
    "language_info": {
      "codemirror_mode": {
        "name": "ipython",
        "version": 3
      },
      "file_extension": ".py",
      "mimetype": "text/x-python",
      "name": "python",
      "nbconvert_exporter": "python",
      "pygments_lexer": "ipython3",
      "version": "3.12.12"
    },
    "colab": {
      "provenance": []
    }
  },
  "nbformat": 4,
  "nbformat_minor": 5
}